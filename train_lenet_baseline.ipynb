{
 "cells": [
  {
   "cell_type": "markdown",
   "id": "9ffec129",
   "metadata": {},
   "source": [
    "## 0 Import Modules"
   ]
  },
  {
   "cell_type": "code",
   "execution_count": 1,
   "id": "f6a2f11c",
   "metadata": {},
   "outputs": [],
   "source": [
    "import torch\n",
    "import torch.nn as nn\n",
    "import torch.nn.functional as F\n",
    "\n",
    "from torch.optim import Adam\n",
    "from torch.utils.data import DataLoader\n",
    "from torchvision import datasets, transforms"
   ]
  },
  {
   "cell_type": "code",
   "execution_count": 2,
   "id": "cb831e9f",
   "metadata": {},
   "outputs": [],
   "source": [
    "from sklearn.metrics import accuracy_score\n",
    "from tqdm import tqdm"
   ]
  },
  {
   "cell_type": "code",
   "execution_count": 3,
   "id": "1b96218a",
   "metadata": {},
   "outputs": [],
   "source": [
    "from neumeta.models.lenet import MnistNet"
   ]
  },
  {
   "cell_type": "markdown",
   "id": "440ae822",
   "metadata": {},
   "source": [
    "## 1 Functions"
   ]
  },
  {
   "cell_type": "markdown",
   "id": "cf188b0d",
   "metadata": {},
   "source": [
    "### 1.1 Training Loop Function"
   ]
  },
  {
   "cell_type": "code",
   "execution_count": 4,
   "id": "8741dcc8",
   "metadata": {},
   "outputs": [],
   "source": [
    "def train_one_epoch(model, train_loader, optimizer, criterion, device):\n",
    "    model.train()\n",
    "    total_loss = 0.0\n",
    "    for x, target in tqdm(train_loader):\n",
    "        optimizer.zero_grad()\n",
    "        x, target = x.to(device), target.to(device)\n",
    "\n",
    "        # Forward pass\n",
    "        predict = model(x) #+ compute_tv_loss_for_network(model, lambda_tv=1e-2)\n",
    "\n",
    "        # Compute loss\n",
    "        loss = criterion(predict, target)\n",
    "        loss.backward()\n",
    "        optimizer.step()\n",
    "        total_loss += loss.item()\n",
    "        \n",
    "    return total_loss / len(train_loader)"
   ]
  },
  {
   "cell_type": "markdown",
   "id": "3aac2629",
   "metadata": {},
   "source": [
    "### 1.2 Validation function"
   ]
  },
  {
   "cell_type": "code",
   "execution_count": 5,
   "id": "1080805e",
   "metadata": {},
   "outputs": [],
   "source": [
    "def validate(model, val_loader, criterion, device):\n",
    "    model.eval()\n",
    "    val_loss = 0.0\n",
    "    preds = []\n",
    "    gt = []\n",
    "    with torch.no_grad():\n",
    "        for x, target in val_loader:\n",
    "            x, target = x.to(device), target.to(device)\n",
    "            predict = model(x)\n",
    "            pred = torch.argmax(predict, dim=-1)\n",
    "            preds.append(pred)\n",
    "            gt.append(target)\n",
    "            loss = criterion(predict, target)\n",
    "            val_loss += loss.item()\n",
    "    return val_loss / len(val_loader), accuracy_score(torch.cat(gt).cpu().numpy(), torch.cat(preds).cpu().numpy())\n"
   ]
  },
  {
   "cell_type": "markdown",
   "id": "7cf8d954",
   "metadata": {},
   "source": [
    "## 2 Training LeNet-dim_32"
   ]
  },
  {
   "cell_type": "markdown",
   "id": "584a2976",
   "metadata": {},
   "source": [
    "### 2.0 Device"
   ]
  },
  {
   "cell_type": "code",
   "execution_count": 6,
   "id": "b07f3261",
   "metadata": {},
   "outputs": [],
   "source": [
    "device = \"cuda\" if torch.cuda.is_available() else \"cpu\""
   ]
  },
  {
   "cell_type": "markdown",
   "id": "fc7125cc",
   "metadata": {},
   "source": [
    "### 2.1 Hyperparameters"
   ]
  },
  {
   "cell_type": "code",
   "execution_count": 7,
   "id": "ce728ea1",
   "metadata": {},
   "outputs": [],
   "source": [
    "learning_rate = 1e-3\n",
    "batch_size = 128\n",
    "num_epochs = 10\n",
    "hidden_dim= 32"
   ]
  },
  {
   "cell_type": "markdown",
   "id": "af4594fa",
   "metadata": {},
   "source": [
    "### 2.2 Data Preparations"
   ]
  },
  {
   "cell_type": "code",
   "execution_count": 8,
   "id": "567dd5f0",
   "metadata": {},
   "outputs": [
    {
     "name": "stderr",
     "output_type": "stream",
     "text": [
      "100%|██████████| 9.91M/9.91M [00:12<00:00, 785kB/s] \n",
      "100%|██████████| 28.9k/28.9k [00:00<00:00, 94.8kB/s]\n",
      "100%|██████████| 1.65M/1.65M [00:01<00:00, 972kB/s] \n",
      "100%|██████████| 4.54k/4.54k [00:00<00:00, 3.32MB/s]\n"
     ]
    }
   ],
   "source": [
    "transform = transforms.Compose([transforms.ToTensor(), transforms.Normalize((0.5,), (0.5,))])\n",
    "train_dataset = datasets.MNIST(root='./data', train=True, transform=transform, download=True)\n",
    "val_dataset = datasets.MNIST(root='./data', train=False, transform=transform)"
   ]
  },
  {
   "cell_type": "code",
   "execution_count": 9,
   "id": "e0c221ec",
   "metadata": {},
   "outputs": [],
   "source": [
    "train_loader = DataLoader(train_dataset, batch_size=batch_size, shuffle=True)\n",
    "val_loader = DataLoader(val_dataset, batch_size=batch_size, shuffle=False)"
   ]
  },
  {
   "cell_type": "markdown",
   "id": "52d446ef",
   "metadata": {},
   "source": [
    "### 2.3 Create Model"
   ]
  },
  {
   "cell_type": "code",
   "execution_count": 10,
   "id": "0c7b32b1",
   "metadata": {},
   "outputs": [],
   "source": [
    "model = MnistNet(hidden_dim=hidden_dim).to(device)"
   ]
  },
  {
   "cell_type": "markdown",
   "id": "300c6aa4",
   "metadata": {},
   "source": [
    "### 2.4 Optimizer and Criterion"
   ]
  },
  {
   "cell_type": "code",
   "execution_count": 11,
   "id": "b5971e82",
   "metadata": {},
   "outputs": [],
   "source": [
    "criterion = torch.nn.CrossEntropyLoss()\n",
    "optimizer = Adam(model.parameters(), lr=learning_rate)"
   ]
  },
  {
   "cell_type": "markdown",
   "id": "4ea27679",
   "metadata": {},
   "source": [
    "### 2.5 Training and Validation Loop"
   ]
  },
  {
   "cell_type": "code",
   "execution_count": 12,
   "id": "b9944a1b",
   "metadata": {},
   "outputs": [
    {
     "name": "stderr",
     "output_type": "stream",
     "text": [
      "100%|██████████| 469/469 [00:10<00:00, 44.46it/s]\n"
     ]
    },
    {
     "name": "stdout",
     "output_type": "stream",
     "text": [
      "Epoch [1/10], Training Loss: 0.5588\n",
      "Epoch [1/10], Validation Loss: 0.2161, Validation Accuracy: 93.06%\n"
     ]
    },
    {
     "name": "stderr",
     "output_type": "stream",
     "text": [
      "100%|██████████| 469/469 [00:09<00:00, 47.45it/s]\n"
     ]
    },
    {
     "name": "stdout",
     "output_type": "stream",
     "text": [
      "Epoch [2/10], Training Loss: 0.1902\n",
      "Epoch [2/10], Validation Loss: 0.1340, Validation Accuracy: 95.85%\n"
     ]
    },
    {
     "name": "stderr",
     "output_type": "stream",
     "text": [
      "100%|██████████| 469/469 [00:10<00:00, 46.39it/s]\n"
     ]
    },
    {
     "name": "stdout",
     "output_type": "stream",
     "text": [
      "Epoch [3/10], Training Loss: 0.1400\n",
      "Epoch [3/10], Validation Loss: 0.1131, Validation Accuracy: 96.53%\n"
     ]
    },
    {
     "name": "stderr",
     "output_type": "stream",
     "text": [
      "100%|██████████| 469/469 [00:10<00:00, 46.50it/s]\n"
     ]
    },
    {
     "name": "stdout",
     "output_type": "stream",
     "text": [
      "Epoch [4/10], Training Loss: 0.1149\n",
      "Epoch [4/10], Validation Loss: 0.0930, Validation Accuracy: 97.14%\n"
     ]
    },
    {
     "name": "stderr",
     "output_type": "stream",
     "text": [
      "100%|██████████| 469/469 [00:09<00:00, 49.55it/s]\n"
     ]
    },
    {
     "name": "stdout",
     "output_type": "stream",
     "text": [
      "Epoch [5/10], Training Loss: 0.0979\n",
      "Epoch [5/10], Validation Loss: 0.0852, Validation Accuracy: 97.32%\n"
     ]
    },
    {
     "name": "stderr",
     "output_type": "stream",
     "text": [
      "100%|██████████| 469/469 [00:09<00:00, 48.65it/s]\n"
     ]
    },
    {
     "name": "stdout",
     "output_type": "stream",
     "text": [
      "Epoch [6/10], Training Loss: 0.0858\n",
      "Epoch [6/10], Validation Loss: 0.0772, Validation Accuracy: 97.74%\n"
     ]
    },
    {
     "name": "stderr",
     "output_type": "stream",
     "text": [
      "100%|██████████| 469/469 [00:09<00:00, 47.72it/s]\n"
     ]
    },
    {
     "name": "stdout",
     "output_type": "stream",
     "text": [
      "Epoch [7/10], Training Loss: 0.0737\n",
      "Epoch [7/10], Validation Loss: 0.0760, Validation Accuracy: 97.71%\n"
     ]
    },
    {
     "name": "stderr",
     "output_type": "stream",
     "text": [
      "100%|██████████| 469/469 [00:09<00:00, 48.67it/s]\n"
     ]
    },
    {
     "name": "stdout",
     "output_type": "stream",
     "text": [
      "Epoch [8/10], Training Loss: 0.0684\n",
      "Epoch [8/10], Validation Loss: 0.0673, Validation Accuracy: 97.93%\n"
     ]
    },
    {
     "name": "stderr",
     "output_type": "stream",
     "text": [
      "100%|██████████| 469/469 [00:09<00:00, 47.66it/s]\n"
     ]
    },
    {
     "name": "stdout",
     "output_type": "stream",
     "text": [
      "Epoch [9/10], Training Loss: 0.0609\n",
      "Epoch [9/10], Validation Loss: 0.0633, Validation Accuracy: 98.22%\n"
     ]
    },
    {
     "name": "stderr",
     "output_type": "stream",
     "text": [
      "100%|██████████| 469/469 [00:09<00:00, 47.69it/s]\n"
     ]
    },
    {
     "name": "stdout",
     "output_type": "stream",
     "text": [
      "Epoch [10/10], Training Loss: 0.0555\n",
      "Epoch [10/10], Validation Loss: 0.0621, Validation Accuracy: 98.14%\n",
      "Training finished.\n"
     ]
    }
   ],
   "source": [
    "for epoch in range(num_epochs):\n",
    "    train_loss = train_one_epoch(model, train_loader, optimizer, criterion, device=device)\n",
    "    print(f\"Epoch [{epoch+1}/{num_epochs}], Training Loss: {train_loss:.4f}\")\n",
    "\n",
    "    if (epoch + 1) % 1 == 0:\n",
    "        val_loss, acc = validate(model, val_loader, criterion, device=device)\n",
    "        print(f\"Epoch [{epoch+1}/{num_epochs}], Validation Loss: {val_loss:.4f}, Validation Accuracy: {acc*100:.2f}%\")\n",
    "torch.save(model.state_dict(), f\"toy/mnist_{model.__class__.__name__}_dim{hidden_dim}.pth\")\n",
    "print(\"Training finished.\")"
   ]
  },
  {
   "cell_type": "markdown",
   "id": "14e9ea73",
   "metadata": {},
   "source": [
    "## 3. Testing"
   ]
  },
  {
   "cell_type": "code",
   "execution_count": 14,
   "id": "419b2caf",
   "metadata": {},
   "outputs": [
    {
     "name": "stdout",
     "output_type": "stream",
     "text": [
      "Test on MNIST, Validation Loss: 0.0621, Validation Accuracy: 98.14%\n"
     ]
    }
   ],
   "source": [
    "hidden_dim= 32\n",
    "batch_size = 128\n",
    "# Data preparation\n",
    "transform = transforms.Compose([transforms.ToTensor(), transforms.Normalize((0.5,), (0.5,))])\n",
    "train_dataset = datasets.MNIST(root='./data', train=True, transform=transform, download=True)\n",
    "val_dataset = datasets.MNIST(root='./data', train=False, transform=transform)\n",
    "\n",
    "\n",
    "train_loader = DataLoader(train_dataset, batch_size=batch_size, shuffle=True)\n",
    "val_loader = DataLoader(val_dataset, batch_size=batch_size, shuffle=False)\n",
    "\n",
    "model = MnistNet(hidden_dim=hidden_dim).to(device)\n",
    "model.load_state_dict(torch.load(f\"toy/mnist_{model.__class__.__name__}_dim{hidden_dim}.pth\"))\n",
    "criterion = torch.nn.CrossEntropyLoss()\n",
    "val_loss, acc = validate(model, val_loader, criterion, device=device)\n",
    "print(f\"Test on MNIST, Validation Loss: {val_loss:.4f}, Validation Accuracy: {acc*100:.2f}%\")"
   ]
  }
 ],
 "metadata": {
  "kernelspec": {
   "display_name": "Python 3",
   "language": "python",
   "name": "python3"
  },
  "language_info": {
   "codemirror_mode": {
    "name": "ipython",
    "version": 3
   },
   "file_extension": ".py",
   "mimetype": "text/x-python",
   "name": "python",
   "nbconvert_exporter": "python",
   "pygments_lexer": "ipython3",
   "version": "3.11.11"
  }
 },
 "nbformat": 4,
 "nbformat_minor": 5
}
